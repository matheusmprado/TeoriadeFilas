{
 "cells": [
  {
   "cell_type": "code",
   "execution_count": 14,
   "metadata": {},
   "outputs": [],
   "source": [
    "import numpy as np\n",
    "import pandas as pd\n",
    "import math\n",
    "\n",
    "#dataframes\n",
    "log = pd.DataFrame(columns=[\"Lambda\",\"Mi\"])\n",
    "data = pd.DataFrame(columns=[\"Lambda\",\"Mi\"])\n",
    "w = pd.DataFrame(columns=[\"W\"])\n",
    "wq = pd.DataFrame(columns=[\"WQ\"])\n",
    "cnal = pd.DataFrame(columns=[\"Canal\"])\n",
    "\n",
    "timefor = range(2)"
   ]
  },
  {
   "cell_type": "code",
   "execution_count": 15,
   "metadata": {},
   "outputs": [],
   "source": [
    "#função lambda e mi\n",
    "def e_lambda(x):\n",
    "    e_lambda = (x/360)\n",
    "    return e_lambda\n",
    "\n",
    "def e_mi(y):\n",
    "    e_mi = (60/y)\n",
    "    return e_mi\n",
    "\n",
    "def func_r(x,y):\n",
    "    result = x/y\n",
    "    return result\n",
    "\n",
    "#Funçoes MM1\n",
    "def func_w1(x,y):\n",
    "    w_critico = (1/(y-x))\n",
    "    return w_critico\n",
    "\n",
    "def func_wq1(x,y):\n",
    "    wq_critico = x /(y*(y-x))\n",
    "    return wq_critico\n",
    "\n",
    "\n",
    "#Funçoes MMC\n",
    "def func_soma(x,y):\n",
    "    listae=[]\n",
    "    for i in range(3):\n",
    "        if i <= (canal-1):\n",
    "            soma_result = (((x/y)**i)/math.factorial(i))\n",
    "            listae.append(soma_result)\n",
    "            aux = sum(listae)\n",
    "    if i <= x:\n",
    "        soma_result = 1/(y+1)\n",
    "        listae.append(soma_result)\n",
    "        aux = sum(listae)\n",
    "    return aux\n",
    "\n",
    "def func_p0(x,y):\n",
    "    parteCima = canal*((x/y)**canal)\n",
    "    parteBaixo = math.factorial(canal)*(canal-(x/y))\n",
    "    junto = (parteCima/parteBaixo+func_soma(x,y))**(-1)\n",
    "\n",
    "    return junto\n",
    "\n",
    "def func_wqc(x,y):\n",
    "    parteCima = ((func_r(x,y)**canal)*y)\n",
    "    parteBaixo = (math.factorial(canal-1)*((canal*y)-x)**2)\n",
    "    junto = (parteCima/parteBaixo)*(func_p0(x,y))\n",
    "\n",
    "    return junto\n",
    "\n",
    "def func_wc(x,y):\n",
    "    parteCima = (((func_r(x,y)**canal)*y))\n",
    "    parteBaixo = ((math.factorial(canal-1)*(((canal*y)-x)**2)))\n",
    "    junto = (1/y)+(parteCima/parteBaixo)*(func_p0(x,y))\n",
    "\n",
    "    return junto"
   ]
  },
  {
   "cell_type": "code",
   "execution_count": 20,
   "metadata": {},
   "outputs": [
    {
     "name": "stdout",
     "output_type": "stream",
     "text": [
      "Quantidades de Canal do Sistema: 3\n",
      "qtd clientes: 51\n",
      "tempo de atendimento: 32\n",
      "qtd clientes: 31\n",
      "tempo de atendimento: 23\n"
     ]
    }
   ],
   "source": [
    "canal = int(input(\"Quantidades de Canal do Sistema: \"))\n",
    "\n",
    "for i in timefor:\n",
    "        e1 = int(input(\"qtd clientes: \"))\n",
    "        e2 = float(input(\"tempo de atendimento: \"))\n",
    "    \n",
    "        #inserir dados no dataframe\n",
    "        data = data.append({'Lambda': e_lambda(e1),\"Mi\":e_mi(e2)}, ignore_index=True)\n",
    "        log = log.append({'Lambda': e1,\"Mi\":e2}, ignore_index=True)\n",
    "        cnal = cnal.append({\"Canal\":canal},ignore_index=True)\n",
    "        \n",
    "#append lambda and mi dataframe\n",
    "if canal > 1:\n",
    "    for j in timefor:\n",
    "        calc_lambda = data.iloc[j][0]       \n",
    "        calc_mi = data.iloc[j][1]        \n",
    "        w = w.append({\"W\": func_wc(calc_lambda,calc_mi)},ignore_index=True)\n",
    "        wq = wq.append({\"WQ\": func_wqc(calc_lambda,calc_mi)},ignore_index=True)\n",
    "else:    \n",
    "    #append w (calculo de tempo de serviço) no dataframe\n",
    "    for j in timefor:\n",
    "        calc_lambda = data.iloc[j][0]       \n",
    "        calc_mi = data.iloc[j][1]        \n",
    "        w = w.append({\"W\": (1/(calc_mi-calc_lambda))},ignore_index=True)\n",
    "        wq = wq.append({\"WQ\": (calc_lambda/(calc_mi*(calc_mi-calc_lambda)))},ignore_index=True)\n",
    "  "
   ]
  },
  {
   "cell_type": "code",
   "execution_count": 21,
   "metadata": {},
   "outputs": [],
   "source": [
    "#concatenando\n",
    "result = pd.concat([data, w, wq,cnal], axis=1) \n",
    "\n",
    "#Definição do Lambda e Mi Critico\n",
    "crit_lambda = result.iloc[:,0].max()\n",
    "crit_mi = result.iloc[:,1][result.iloc[:,0].idxmax()]"
   ]
  },
  {
   "cell_type": "code",
   "execution_count": 22,
   "metadata": {},
   "outputs": [
    {
     "name": "stdout",
     "output_type": "stream",
     "text": [
      "Tempo médio de Serviço: 32.00 Minutos\n",
      "Tempo médio de Fila: 0.00 Minutos\n"
     ]
    }
   ],
   "source": [
    "if canal > 1:\n",
    "    #Tempo médio de Serviço (Critico)\n",
    "    print(\"Tempo médio de Serviço: %2.2f Minutos\" % (func_wc(crit_lambda,crit_mi)*60))\n",
    "    print(\"Tempo médio de Fila: %2.2f Minutos\" % (func_wqc(crit_lambda,crit_mi)*60))\n",
    "\n",
    "else:\n",
    "    #Tempo médio de Serviço (Critico)\n",
    "    print(\"Tempo médio de Serviço: %2.2f Minutos\" % (func_w1(crit_lambda,crit_mi)*60))\n",
    "    print(\"Tempo médio de Fila: %2.2f Minutos\" % (func_wq1(crit_lambda,crit_mi)*60))"
   ]
  },
  {
   "cell_type": "code",
   "execution_count": 23,
   "metadata": {},
   "outputs": [
    {
     "data": {
      "text/html": [
       "<div>\n",
       "<style scoped>\n",
       "    .dataframe tbody tr th:only-of-type {\n",
       "        vertical-align: middle;\n",
       "    }\n",
       "\n",
       "    .dataframe tbody tr th {\n",
       "        vertical-align: top;\n",
       "    }\n",
       "\n",
       "    .dataframe thead th {\n",
       "        text-align: right;\n",
       "    }\n",
       "</style>\n",
       "<table border=\"1\" class=\"dataframe\">\n",
       "  <thead>\n",
       "    <tr style=\"text-align: right;\">\n",
       "      <th></th>\n",
       "      <th>Lambda</th>\n",
       "      <th>Mi</th>\n",
       "    </tr>\n",
       "  </thead>\n",
       "  <tbody>\n",
       "    <tr>\n",
       "      <th>0</th>\n",
       "      <td>51.0</td>\n",
       "      <td>32.0</td>\n",
       "    </tr>\n",
       "    <tr>\n",
       "      <th>1</th>\n",
       "      <td>31.0</td>\n",
       "      <td>23.0</td>\n",
       "    </tr>\n",
       "  </tbody>\n",
       "</table>\n",
       "</div>"
      ],
      "text/plain": [
       "   Lambda    Mi\n",
       "0    51.0  32.0\n",
       "1    31.0  23.0"
      ]
     },
     "execution_count": 23,
     "metadata": {},
     "output_type": "execute_result"
    }
   ],
   "source": [
    "log"
   ]
  },
  {
   "cell_type": "code",
   "execution_count": 24,
   "metadata": {},
   "outputs": [
    {
     "data": {
      "text/html": [
       "<div>\n",
       "<style scoped>\n",
       "    .dataframe tbody tr th:only-of-type {\n",
       "        vertical-align: middle;\n",
       "    }\n",
       "\n",
       "    .dataframe tbody tr th {\n",
       "        vertical-align: top;\n",
       "    }\n",
       "\n",
       "    .dataframe thead th {\n",
       "        text-align: right;\n",
       "    }\n",
       "</style>\n",
       "<table border=\"1\" class=\"dataframe\">\n",
       "  <thead>\n",
       "    <tr style=\"text-align: right;\">\n",
       "      <th></th>\n",
       "      <th>Lambda</th>\n",
       "      <th>Mi</th>\n",
       "      <th>W</th>\n",
       "      <th>WQ</th>\n",
       "      <th>Canal</th>\n",
       "    </tr>\n",
       "  </thead>\n",
       "  <tbody>\n",
       "    <tr>\n",
       "      <th>0</th>\n",
       "      <td>0.141667</td>\n",
       "      <td>1.875000</td>\n",
       "      <td>0.533346</td>\n",
       "      <td>1.247003e-05</td>\n",
       "      <td>3</td>\n",
       "    </tr>\n",
       "    <tr>\n",
       "      <th>1</th>\n",
       "      <td>0.086111</td>\n",
       "      <td>2.608696</td>\n",
       "      <td>0.383334</td>\n",
       "      <td>7.576800e-07</td>\n",
       "      <td>3</td>\n",
       "    </tr>\n",
       "  </tbody>\n",
       "</table>\n",
       "</div>"
      ],
      "text/plain": [
       "     Lambda        Mi         W            WQ Canal\n",
       "0  0.141667  1.875000  0.533346  1.247003e-05     3\n",
       "1  0.086111  2.608696  0.383334  7.576800e-07     3"
      ]
     },
     "execution_count": 24,
     "metadata": {},
     "output_type": "execute_result"
    }
   ],
   "source": [
    "result"
   ]
  },
  {
   "cell_type": "code",
   "execution_count": 27,
   "metadata": {},
   "outputs": [
    {
     "name": "stdout",
     "output_type": "stream",
     "text": [
      "[0.5333458]\n",
      "0.5333458033673298\n",
      "0.5769230769230769\n"
     ]
    }
   ],
   "source": [
    "#Random Regressor Tree \n",
    "x = log.iloc[:,0:2].values\n",
    "y = result.iloc[:, 2:3].values\n",
    "\n",
    "from sklearn.model_selection import train_test_split\n",
    "x_train,x_test,y_train,y_test = train_test_split(x,y, test_size=0.2,random_state=0)\n",
    "\n",
    "from sklearn.ensemble import RandomForestRegressor\n",
    "regressor = RandomForestRegressor(n_estimators=300, random_state=0)\n",
    "regressor.fit(x_train,y_train.ravel())\n",
    "\n",
    "test= [[51,32]]\n",
    "\n",
    "y_pred = regressor.predict(test)\n",
    "\n",
    "print(y_pred)\n",
    "print(func_wc(e_lambda(51),e_mi(32)))\n",
    "print(func_w1(e_lambda(51),e_mi(32)))"
   ]
  },
  {
   "cell_type": "code",
   "execution_count": null,
   "metadata": {},
   "outputs": [],
   "source": [
    "\"\"\"\n",
    "x_log = log.iloc[:,0:1].values\n",
    "y_log = log.iloc[:,1:].values\n",
    "\n",
    "from sklearn.model_selection import train_test_split\n",
    "xlog_train,xlog_test,ylog_train,ylog_test = train_test_split(x_log,y_log, test_size=0.3,random_state=0)\n",
    "\n",
    "#time regressor predict\n",
    "from sklearn.linear_model import LinearRegression\n",
    "regressor_log = LinearRegression()\n",
    "regressor_log.fit(xlog_train,ylog_train)\n",
    "ylog_predt = regressor_log.predict(xlog_test)\n",
    "\n",
    "#client regressor predict\n",
    "from sklearn.linear_model import LinearRegression\n",
    "regressor_logc = LinearRegression()\n",
    "regressor_logc.fit(ylog_train,xlog_train)\n",
    "ylog_predc = regressor_logc.predict(ylog_test)\n",
    "\n",
    "#concatenate lambda and time regressor\n",
    "predict = np.concatenate([ylog_predc,ylog_predt],axis=1)\n",
    "\n",
    "#convert to dataframe \n",
    "predict = pd.DataFrame(predict,columns=[\"Lambda\",\"Mi\"]) \n",
    "\n",
    "predict\n",
    "\"\"\""
   ]
  }
 ],
 "metadata": {
  "kernelspec": {
   "display_name": "Python 3",
   "language": "python",
   "name": "python3"
  },
  "language_info": {
   "codemirror_mode": {
    "name": "ipython",
    "version": 3
   },
   "file_extension": ".py",
   "mimetype": "text/x-python",
   "name": "python",
   "nbconvert_exporter": "python",
   "pygments_lexer": "ipython3",
   "version": "3.7.0"
  }
 },
 "nbformat": 4,
 "nbformat_minor": 2
}
